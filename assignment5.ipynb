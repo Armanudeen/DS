{
  "nbformat": 4,
  "nbformat_minor": 0,
  "metadata": {
    "colab": {
      "provenance": []
    },
    "kernelspec": {
      "name": "python3",
      "display_name": "Python 3"
    },
    "language_info": {
      "name": "python"
    }
  },
  "cells": [
    {
      "cell_type": "code",
      "source": [],
      "metadata": {
        "id": "aCSpE-fWZOK-"
      },
      "execution_count": null,
      "outputs": []
    },
    {
      "cell_type": "code",
      "execution_count": 1,
      "metadata": {
        "colab": {
          "base_uri": "https://localhost:8080/"
        },
        "id": "3kEQzk0iY9Sp",
        "outputId": "601e90f1-6e43-4433-bdce-b42122e5a15c"
      },
      "outputs": [
        {
          "output_type": "stream",
          "name": "stdout",
          "text": [
            "not an Amstrong number\n"
          ]
        }
      ],
      "source": [
        "def amstrong(n):\n",
        "    l=len(str(n))\n",
        "    sum=0\n",
        "    if n>0:\n",
        "        for i in str(n):\n",
        "            a=int(i)\n",
        "            b=a**l\n",
        "            sum+=b\n",
        "        if sum==n:\n",
        "            print(\"Amstrong number\")\n",
        "        else:\n",
        "            print(\"not an Amstrong number\")\n",
        "\n",
        "amstrong(152)"
      ]
    },
    {
      "cell_type": "code",
      "source": [
        "def count_string(s,c):\n",
        "    count=0\n",
        "    for i in s:\n",
        "        if c==i:\n",
        "            count+=1\n",
        "\n",
        "    print(f\"character '{c}' appears {count} times in '{s}' this string\")\n",
        "\n",
        "s=input(\"Enter the String:\")\n",
        "c=input(\"Enter the character :\")\n",
        "\n",
        "count_string(s,c)"
      ],
      "metadata": {
        "colab": {
          "base_uri": "https://localhost:8080/"
        },
        "id": "vNR296dMZQql",
        "outputId": "9eaf2c79-64a5-4d37-ed9f-92d5ed1ae123"
      },
      "execution_count": 2,
      "outputs": [
        {
          "output_type": "stream",
          "name": "stdout",
          "text": [
            "Enter the String:armans\n",
            "Enter the character :a\n",
            "character 'a' appears 2 times in 'armans' this string\n"
          ]
        }
      ]
    },
    {
      "cell_type": "code",
      "source": [
        "def prime_num(n1, n2):\n",
        "    print(f\"Prime numbers between {n1} and {n2} are:\")\n",
        "    for num in range(n1, n2 + 1):\n",
        "        if num > 1:\n",
        "            for i in range(2, int(num**0.5) + 1):\n",
        "                if num % i == 0:\n",
        "                    break\n",
        "            else:\n",
        "                print(num)\n",
        "\n",
        "prime_num(2, 10)"
      ],
      "metadata": {
        "colab": {
          "base_uri": "https://localhost:8080/"
        },
        "id": "3aJPUNJKZrsT",
        "outputId": "9c40bf7d-1cd5-4a18-d9f1-639d3674b39d"
      },
      "execution_count": 3,
      "outputs": [
        {
          "output_type": "stream",
          "name": "stdout",
          "text": [
            "Prime numbers between 2 and 10 are:\n",
            "2\n",
            "3\n",
            "5\n",
            "7\n"
          ]
        }
      ]
    },
    {
      "cell_type": "code",
      "source": [
        "def gcd(a, b):\n",
        "    gcd_val = 1\n",
        "    for i in range(1, min(a, b) + 1):\n",
        "        if a % i == 0 and b % i == 0:\n",
        "            gcd_val = i\n",
        "    print(gcd_val)\n",
        "\n",
        "print(gcd(48, 18))"
      ],
      "metadata": {
        "colab": {
          "base_uri": "https://localhost:8080/"
        },
        "id": "OvDqrr6qZuyv",
        "outputId": "d76b66a7-c24e-4cc7-ad08-aaba9fa197cc"
      },
      "execution_count": 4,
      "outputs": [
        {
          "output_type": "stream",
          "name": "stdout",
          "text": [
            "6\n",
            "None\n"
          ]
        }
      ]
    },
    {
      "cell_type": "code",
      "source": [
        "def lcm(a, b):\n",
        "    greater = max(a, b)\n",
        "    for i in range(greater, (a * b) + 1):\n",
        "        if i % a == 0 and i % b == 0:\n",
        "            return i\n",
        "\n",
        "print(lcm(12, 18))"
      ],
      "metadata": {
        "colab": {
          "base_uri": "https://localhost:8080/"
        },
        "id": "7qNOF0OjZzOF",
        "outputId": "9c49d401-3d70-4b87-9df6-a47cb4616294"
      },
      "execution_count": 5,
      "outputs": [
        {
          "output_type": "stream",
          "name": "stdout",
          "text": [
            "36\n"
          ]
        }
      ]
    },
    {
      "cell_type": "code",
      "source": [
        "def binary(n):\n",
        "    print(bin(n))\n",
        "\n",
        "binary(5)"
      ],
      "metadata": {
        "colab": {
          "base_uri": "https://localhost:8080/"
        },
        "id": "3RT_iszSZ16t",
        "outputId": "896e5b68-6caa-46fb-aa64-30d44d4ce0e7"
      },
      "execution_count": 6,
      "outputs": [
        {
          "output_type": "stream",
          "name": "stdout",
          "text": [
            "0b101\n"
          ]
        }
      ]
    },
    {
      "cell_type": "code",
      "source": [
        "def star_pyramid(rows):\n",
        "    for i in range(5):\n",
        "        for j in range(i+1):\n",
        "            print(\"*\", end=\"\")\n",
        "        print()\n",
        "\n",
        "star_pyramid(5)"
      ],
      "metadata": {
        "colab": {
          "base_uri": "https://localhost:8080/"
        },
        "id": "YU-UWBCmZ5Hq",
        "outputId": "59cee51e-53b2-40f9-e061-908850deb5eb"
      },
      "execution_count": 7,
      "outputs": [
        {
          "output_type": "stream",
          "name": "stdout",
          "text": [
            "*\n",
            "**\n",
            "***\n",
            "****\n",
            "*****\n"
          ]
        }
      ]
    },
    {
      "cell_type": "code",
      "source": [
        "def is_perfect(num):\n",
        "    if num < 2:\n",
        "        return False\n",
        "    sum_of_factors = 0\n",
        "    for i in range(1, num):\n",
        "        if num % i == 0:\n",
        "            sum_of_factors += i\n",
        "    print(sum_of_factors == num)\n",
        "\n",
        "is_perfect(6)\n",
        "is_perfect(28)\n",
        "is_perfect(12)"
      ],
      "metadata": {
        "colab": {
          "base_uri": "https://localhost:8080/"
        },
        "id": "go147V5kZ8Aj",
        "outputId": "ebc8fc45-3a64-4832-9ab5-a2ec9aec92d6"
      },
      "execution_count": 8,
      "outputs": [
        {
          "output_type": "stream",
          "name": "stdout",
          "text": [
            "True\n",
            "True\n",
            "False\n"
          ]
        }
      ]
    },
    {
      "cell_type": "code",
      "source": [
        "def digit_frequency(num):\n",
        "    num_str = str(num)\n",
        "    freq = {}\n",
        "\n",
        "    for digit in num_str:\n",
        "        if digit in freq:\n",
        "            freq[digit] += 1\n",
        "        else:\n",
        "            freq[digit] = 1\n",
        "\n",
        "    print(f\"Digit frequencies in {num}:\")\n",
        "    for digit, count in freq.items():\n",
        "        print(f\"{digit} → {count}\")\n",
        "\n",
        "digit_frequency(112345551)"
      ],
      "metadata": {
        "id": "n1iK6UnYZ_Bl",
        "outputId": "7e4bd952-7315-4dd5-dfa0-69b54a0a674d",
        "colab": {
          "base_uri": "https://localhost:8080/"
        }
      },
      "execution_count": 9,
      "outputs": [
        {
          "output_type": "stream",
          "name": "stdout",
          "text": [
            "Digit frequencies in 112345551:\n",
            "1 → 3\n",
            "2 → 1\n",
            "3 → 1\n",
            "4 → 1\n",
            "5 → 3\n"
          ]
        }
      ]
    }
  ]
}