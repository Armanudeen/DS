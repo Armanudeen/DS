{
  "nbformat": 4,
  "nbformat_minor": 0,
  "metadata": {
    "colab": {
      "provenance": []
    },
    "kernelspec": {
      "name": "python3",
      "display_name": "Python 3"
    },
    "language_info": {
      "name": "python"
    }
  },
  "cells": [
    {
      "cell_type": "code",
      "execution_count": null,
      "metadata": {
        "colab": {
          "base_uri": "https://localhost:8080/"
        },
        "id": "RvPmoTf8jQQF",
        "outputId": "413b65b3-8a0b-4b00-b962-a046b9424e7f"
      },
      "outputs": [
        {
          "output_type": "stream",
          "name": "stdout",
          "text": [
            "1d array:  [1 2 3 4 5] (5,) 1\n",
            "\n",
            "2d array:  [[1 2 3]\n",
            " [4 5 6]] (2, 3) 2\n",
            "\n",
            "3d array:  [[[1 2]\n",
            "  [3 4]]\n",
            "\n",
            " [[5 6]\n",
            "  [7 8]]] (2, 2, 2) 3\n"
          ]
        }
      ],
      "source": [
        "import numpy as np\n",
        "\n",
        "arr1D = np.array([1, 2, 3, 4, 5])\n",
        "print(\"1d array: \",arr1D, arr1D.shape, arr1D.ndim)\n",
        "\n",
        "print()\n",
        "\n",
        "arr2D = np.array([[1, 2, 3], [4, 5, 6]])\n",
        "print(\"2d array: \",arr2D, arr2D.shape, arr2D.ndim)\n",
        "\n",
        "print()\n",
        "\n",
        "arr3D = np.array([[[1, 2], [3, 4]], [[5, 6], [7, 8]]])\n",
        "print(\"3d array: \",arr3D, arr3D.shape, arr3D.ndim)"
      ]
    },
    {
      "cell_type": "code",
      "source": [
        "\n",
        "\n",
        "arr_range = np.arange(10, 51, 5)\n",
        "print(arr_range)"
      ],
      "metadata": {
        "colab": {
          "base_uri": "https://localhost:8080/"
        },
        "id": "tTQDmYCSjoyt",
        "outputId": "bc9e7f54-94a9-4e98-9de8-e283ff8023b2"
      },
      "execution_count": null,
      "outputs": [
        {
          "output_type": "stream",
          "name": "stdout",
          "text": [
            "[10 15 20 25 30 35 40 45 50]\n"
          ]
        }
      ]
    },
    {
      "cell_type": "code",
      "source": [
        "\n",
        "\n",
        "rand_matrix = np.random.randint(1, 21, size=(3, 3))\n",
        "print(rand_matrix)"
      ],
      "metadata": {
        "colab": {
          "base_uri": "https://localhost:8080/"
        },
        "id": "8vF8ApFajrr3",
        "outputId": "cbe20876-0c62-4e64-8291-5b058dacadfe"
      },
      "execution_count": null,
      "outputs": [
        {
          "output_type": "stream",
          "name": "stdout",
          "text": [
            "[[ 9 18 11]\n",
            " [ 7  3  5]\n",
            " [15  1 19]]\n"
          ]
        }
      ]
    },
    {
      "cell_type": "code",
      "source": [
        "\n",
        "\n",
        "arr = np.array([[10, 20, 30, 40],\n",
        "                [50, 60, 70, 80],\n",
        "                [90, 100, 110, 120]])\n",
        "\n",
        "print(arr[1])         # second row\n",
        "print(arr[:, 0])      # first column\n",
        "print(arr[0:2, 1:4])"
      ],
      "metadata": {
        "colab": {
          "base_uri": "https://localhost:8080/"
        },
        "id": "j4R3O3WqjuCX",
        "outputId": "730a4c25-7ac1-4b56-9758-0da62ffc44ec"
      },
      "execution_count": null,
      "outputs": [
        {
          "output_type": "stream",
          "name": "stdout",
          "text": [
            "[50 60 70 80]\n",
            "[10 50 90]\n",
            "[[20 30 40]\n",
            " [60 70 80]]\n"
          ]
        }
      ]
    },
    {
      "cell_type": "code",
      "source": [
        "\n",
        "\n",
        "a = np.array([1, 2, 3])\n",
        "b = np.array([4, 5, 6])\n",
        "\n",
        "print(a + b)\n",
        "print(a - b)\n",
        "print(a * b)\n",
        "print(a / b)"
      ],
      "metadata": {
        "colab": {
          "base_uri": "https://localhost:8080/"
        },
        "id": "HofzlCc4jyos",
        "outputId": "37a3a2dd-af30-4541-b216-c33a99224dd1"
      },
      "execution_count": null,
      "outputs": [
        {
          "output_type": "stream",
          "name": "stdout",
          "text": [
            "[5 7 9]\n",
            "[-3 -3 -3]\n",
            "[ 4 10 18]\n",
            "[0.25 0.4  0.5 ]\n"
          ]
        }
      ]
    },
    {
      "cell_type": "code",
      "source": [
        "\n",
        "\n",
        "arr = np.arange(1, 13)\n",
        "reshaped = arr.reshape(3, 4)\n",
        "\n",
        "print(arr)\n",
        "print(reshaped)"
      ],
      "metadata": {
        "colab": {
          "base_uri": "https://localhost:8080/"
        },
        "id": "t2NU_RTKj1fs",
        "outputId": "f3396c2e-0b98-4432-d2b0-dbd4e07b1f4a"
      },
      "execution_count": null,
      "outputs": [
        {
          "output_type": "stream",
          "name": "stdout",
          "text": [
            "[ 1  2  3  4  5  6  7  8  9 10 11 12]\n",
            "[[ 1  2  3  4]\n",
            " [ 5  6  7  8]\n",
            " [ 9 10 11 12]]\n"
          ]
        }
      ]
    }
  ]
}