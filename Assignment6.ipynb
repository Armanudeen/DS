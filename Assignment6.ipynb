{
  "nbformat": 4,
  "nbformat_minor": 0,
  "metadata": {
    "colab": {
      "provenance": []
    },
    "kernelspec": {
      "name": "python3",
      "display_name": "Python 3"
    },
    "language_info": {
      "name": "python"
    }
  },
  "cells": [
    {
      "cell_type": "code",
      "execution_count": null,
      "metadata": {
        "colab": {
          "base_uri": "https://localhost:8080/"
        },
        "id": "AVg7JI9SrXWD",
        "outputId": "a22feba7-cc0f-4f7c-a97a-448389061ebf"
      },
      "outputs": [
        {
          "output_type": "stream",
          "name": "stdout",
          "text": [
            "Area of the Rectangle = 10\n",
            "Perimeter of the Rectangle = 14\n"
          ]
        }
      ],
      "source": [
        "class rectangle:\n",
        "    def area(lenght,width):\n",
        "        a = lenght*width\n",
        "        print(f\"Area of the Rectangle = {a}\")\n",
        "\n",
        "    def perimeter(lenght,width):\n",
        "        p = 2*(lenght+width)\n",
        "        print(f\"Perimeter of the Rectangle = {p}\")\n",
        "\n",
        "rectangle.area(2,5)\n",
        "rectangle.perimeter(2,5)"
      ]
    },
    {
      "cell_type": "code",
      "source": [
        "class Calculator:\n",
        "    def add(self, a, b):\n",
        "        print(f'Sum={a + b}')\n",
        "\n",
        "    def subtract(self, a, b):\n",
        "        print(f'sub= {a - b}')\n",
        "\n",
        "    def multiply(self, a, b):\n",
        "        print(f'mult={a * b}')\n",
        "\n",
        "    def divide(self, a, b):\n",
        "        print(f'Div={a / b}')\n",
        "\n",
        "\n",
        "calc = Calculator()\n",
        "calc.add(10, 5)\n",
        "calc.subtract(10, 5)\n",
        "calc.multiply(10, 5)\n",
        "calc.divide(10, 5)\n",
        "calc.divide(10, 2)"
      ],
      "metadata": {
        "colab": {
          "base_uri": "https://localhost:8080/"
        },
        "id": "xH53zc6Jrju0",
        "outputId": "61cb980c-c709-46fd-8fc0-ba5e7cc5cc18"
      },
      "execution_count": null,
      "outputs": [
        {
          "output_type": "stream",
          "name": "stdout",
          "text": [
            "Sum=15\n",
            "sub= 5\n",
            "mult=50\n",
            "Div=2.0\n",
            "Div=5.0\n"
          ]
        }
      ]
    },
    {
      "cell_type": "code",
      "source": [
        "class circle:\n",
        "    def area(r):\n",
        "        print(f'Area={3.14*r*r}')\n",
        "    def circum(r):\n",
        "        print(f'Circum={2*3.14*r}')\n",
        "\n",
        "circle.area(5)\n",
        "circle.circum(5)"
      ],
      "metadata": {
        "colab": {
          "base_uri": "https://localhost:8080/"
        },
        "id": "tfntK6gbrwS2",
        "outputId": "2bd8644e-2009-4d58-c35d-709285689f4b"
      },
      "execution_count": null,
      "outputs": [
        {
          "output_type": "stream",
          "name": "stdout",
          "text": [
            "Area=78.5\n",
            "Circum=31.400000000000002\n"
          ]
        }
      ]
    },
    {
      "cell_type": "code",
      "source": [
        "class employee:\n",
        "    def display(name,salary):\n",
        "        print(f\"{name},{salary}\")\n",
        "\n",
        "employee.display('helix',2000)"
      ],
      "metadata": {
        "colab": {
          "base_uri": "https://localhost:8080/"
        },
        "id": "t7as9mEqr7f6",
        "outputId": "d946112e-b82e-40fe-be07-83cfc9d2c9cd"
      },
      "execution_count": null,
      "outputs": [
        {
          "output_type": "stream",
          "name": "stdout",
          "text": [
            "helix,2000\n"
          ]
        }
      ]
    },
    {
      "cell_type": "code",
      "source": [
        "class BankAccount:\n",
        "    def __init__(self, account_number, balance=0):\n",
        "        self.account_number = account_number\n",
        "        self.balance = balance\n",
        "\n",
        "    def deposit(self, amount):\n",
        "        if amount > 0:\n",
        "            self.balance += amount\n",
        "            print(f\"Deposited: {amount}\")\n",
        "        else:\n",
        "            print(\"Deposit amount must be positive.\")\n",
        "\n",
        "    def withdraw(self, amount):\n",
        "        if amount > self.balance:\n",
        "            print(\"Insufficient balance.\")\n",
        "        elif amount <= 0:\n",
        "            print(\"Withdrawal amount must be positive.\")\n",
        "        else:\n",
        "            self.balance -= amount\n",
        "            print(f\"Withdrawn: {amount}\")\n",
        "\n",
        "    def check_balance(self):\n",
        "        print(f\"Account {self.account_number} balance: {self.balance}\")\n",
        "\n",
        "\n",
        "\n",
        "account = BankAccount(101, 500)\n",
        "account.deposit(200)\n",
        "account.withdraw(100)\n",
        "account.check_balance()"
      ],
      "metadata": {
        "colab": {
          "base_uri": "https://localhost:8080/"
        },
        "id": "nqE7Ud8lr-5o",
        "outputId": "b4af2801-9dc9-4420-9fde-ce03a4d67632"
      },
      "execution_count": null,
      "outputs": [
        {
          "output_type": "stream",
          "name": "stdout",
          "text": [
            "Deposited: 200\n",
            "Withdrawn: 100\n",
            "Account 101 balance: 600\n"
          ]
        }
      ]
    },
    {
      "cell_type": "code",
      "source": [
        "    class temperature:\n",
        "\n",
        "       def celsius_to_fahrenheit(c):\n",
        "        print(f\"{c+274.15}F\")\n",
        "\n",
        "       def fahrenheit_to_celsius(f):\n",
        "        print(f\"{f-274.15}C\")\n",
        "\n",
        "temperature.celsius_to_fahrenheit(30)\n",
        "temperature.fahrenheit_to_celsius(340)"
      ],
      "metadata": {
        "colab": {
          "base_uri": "https://localhost:8080/"
        },
        "id": "EgLl5d3XsFAf",
        "outputId": "ccd608ad-b96d-46e3-fcf6-af2e8de0067f"
      },
      "execution_count": null,
      "outputs": [
        {
          "output_type": "stream",
          "name": "stdout",
          "text": [
            "304.15F\n",
            "65.85000000000002C\n"
          ]
        }
      ]
    },
    {
      "cell_type": "code",
      "source": [
        "class Cart:\n",
        "    def __init__(self):\n",
        "        self.items = []\n",
        "\n",
        "    def add_item(self, item):\n",
        "        self.items.append(item)\n",
        "        print(f\"{item} added to cart.\")\n",
        "\n",
        "    def remove_item(self, item):\n",
        "        if item in self.items:\n",
        "            self.items.remove(item)\n",
        "            print(f\"{item} removed from cart.\")\n",
        "        else:\n",
        "            print(f\"{item} not found in cart.\")\n",
        "\n",
        "    def view_cart(self):\n",
        "        if not self.items:\n",
        "            print(\"Your cart is empty.\")\n",
        "        else:\n",
        "            print(\"Items in your cart:\")\n",
        "            for i, item in enumerate(self.items, 1):\n",
        "                print(f\"{i}. {item}\")\n",
        "\n",
        "\n",
        "cart = Cart()\n",
        "cart.add_item(\"Laptop\")\n",
        "cart.add_item(\"Phone\")\n",
        "cart.view_cart()\n",
        "cart.remove_item(\"Phone\")\n",
        "cart.view_cart()"
      ],
      "metadata": {
        "colab": {
          "base_uri": "https://localhost:8080/"
        },
        "id": "GY-txXGHsH4f",
        "outputId": "c85d41eb-3d26-4af6-f9f2-54b98c051260"
      },
      "execution_count": null,
      "outputs": [
        {
          "output_type": "stream",
          "name": "stdout",
          "text": [
            "Laptop added to cart.\n",
            "Phone added to cart.\n",
            "Items in your cart:\n",
            "1. Laptop\n",
            "2. Phone\n",
            "Phone removed from cart.\n",
            "Items in your cart:\n",
            "1. Laptop\n"
          ]
        }
      ]
    },
    {
      "cell_type": "code",
      "source": [],
      "metadata": {
        "id": "4aUP75mosVdN"
      },
      "execution_count": null,
      "outputs": []
    }
  ]
}