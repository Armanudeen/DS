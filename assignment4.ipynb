{
  "nbformat": 4,
  "nbformat_minor": 0,
  "metadata": {
    "colab": {
      "provenance": []
    },
    "kernelspec": {
      "name": "python3",
      "display_name": "Python 3"
    },
    "language_info": {
      "name": "python"
    }
  },
  "cells": [
    {
      "cell_type": "code",
      "execution_count": 1,
      "metadata": {
        "id": "55vHELCqME4x"
      },
      "outputs": [],
      "source": [
        "import pandas as pd"
      ]
    },
    {
      "cell_type": "code",
      "source": [
        "arr=[54, 43, 2, 1, 5]\n",
        "\n",
        "for i in range(len(arr)):\n",
        "    print(arr[i], end=\" \")\n",
        ""
      ],
      "metadata": {
        "colab": {
          "base_uri": "https://localhost:8080/"
        },
        "id": "5-T951kHJYlc",
        "outputId": "2d2d28a3-1cca-4ef3-954c-4a7a1d3c4166"
      },
      "execution_count": 2,
      "outputs": [
        {
          "output_type": "stream",
          "name": "stdout",
          "text": [
            "54 43 2 1 5 "
          ]
        }
      ]
    },
    {
      "cell_type": "code",
      "source": [
        "arr=[54, 43, 2, 1, 5]\n",
        "sum=0\n",
        "\n",
        "for i in range(len(arr)):\n",
        "    sum +=arr[i]\n",
        "print(sum)\n",
        ""
      ],
      "metadata": {
        "colab": {
          "base_uri": "https://localhost:8080/"
        },
        "id": "-aRSYzT4JY2I",
        "outputId": "a5ae6d6c-b9b2-4d09-aa04-f6c1cf62fa26"
      },
      "execution_count": 3,
      "outputs": [
        {
          "output_type": "stream",
          "name": "stdout",
          "text": [
            "105\n"
          ]
        }
      ]
    },
    {
      "cell_type": "code",
      "source": [
        "list1=[]\n",
        "a=int(input(\"Enter the elements: \"))\n",
        "b=int(input(\"Enter the elements: \"))\n",
        "c=int(input(\"Enter the elements: \"))\n",
        "\n",
        "list1.append(a)\n",
        "list1.append(b)\n",
        "list1.append(c)\n",
        "print(list1)\n",
        ""
      ],
      "metadata": {
        "colab": {
          "base_uri": "https://localhost:8080/"
        },
        "id": "eYIwbuVpJZGh",
        "outputId": "112be02b-6db3-4d80-9bf5-e2ab4fa19697"
      },
      "execution_count": 4,
      "outputs": [
        {
          "output_type": "stream",
          "name": "stdout",
          "text": [
            "Enter the elements: 3\n",
            "Enter the elements: 4\n",
            "Enter the elements: 7\n",
            "[3, 4, 7]\n"
          ]
        }
      ]
    },
    {
      "cell_type": "code",
      "source": [
        "arr=[-12, 8, -7, 6, 12, -9, 14]\n",
        "\n",
        "non_neg_int=[]\n",
        "\n",
        "sum_non=0\n",
        "\n",
        "for i in range(len(arr)):\n",
        "    if arr[i]>=0:\n",
        "        non_neg_int.append(arr[i])\n",
        "\n",
        "print(non_neg_int)\n",
        "for j in range(len(non_neg_int)):\n",
        "    sum_non +=non_neg_int[j]\n",
        "\n",
        "print(\"Sum =\",sum_non)\n",
        "\n",
        "avg=sum_non/len(non_neg_int)\n",
        "print(\"Avg = \",avg)\n",
        ""
      ],
      "metadata": {
        "colab": {
          "base_uri": "https://localhost:8080/"
        },
        "id": "aZGJRaLZJZUl",
        "outputId": "d493639a-41ca-4ed7-9009-ea5f5f822ec6"
      },
      "execution_count": 5,
      "outputs": [
        {
          "output_type": "stream",
          "name": "stdout",
          "text": [
            "[8, 6, 12, 14]\n",
            "Sum = 40\n",
            "Avg =  10.0\n"
          ]
        }
      ]
    },
    {
      "cell_type": "code",
      "source": [
        "n = int(input(\"Enter a number: \"))\n",
        "sum_factors = 0\n",
        "\n",
        "for i in range(1, n):\n",
        "    if n % i == 0:\n",
        "        sum_factors += i\n",
        "\n",
        "if sum_factors == n:\n",
        "    print(\"true\")\n",
        "else:\n",
        "    print(\"false\")"
      ],
      "metadata": {
        "colab": {
          "base_uri": "https://localhost:8080/"
        },
        "id": "S0YJoWJmJZmD",
        "outputId": "66122bec-7943-4c85-933b-b5bddb4dd873"
      },
      "execution_count": 6,
      "outputs": [
        {
          "output_type": "stream",
          "name": "stdout",
          "text": [
            "Enter a number: 30\n",
            "false\n"
          ]
        }
      ]
    },
    {
      "cell_type": "code",
      "source": [
        "stduents = {\n",
        "    \"student1\": {\n",
        "        \"name\": \"John\",\n",
        "        \"age\": 21,\n",
        "        \"courses\": [\"Maths\", \"CompScience\"]\n",
        "    },\n",
        "    \"student2\": {\n",
        "        \"name\": \"Jane\",\n",
        "        \"age\": 22,\n",
        "        \"courses\": [\"English\", \"History\"]\n",
        "    },\n",
        "    \"student3\": {\n",
        "        \"name\": \"Dave\",\n",
        "        \"age\": 20,\n",
        "        \"courses\": [\"Biology\", \"Chemistry\"]\n",
        "    }\n",
        "}\n",
        "\n",
        "print(stduents['student1']['courses'])"
      ],
      "metadata": {
        "colab": {
          "base_uri": "https://localhost:8080/"
        },
        "id": "kEuYW4bVJZ5U",
        "outputId": "e24fbb6a-403e-4e94-c4ed-55f7324f3229"
      },
      "execution_count": 7,
      "outputs": [
        {
          "output_type": "stream",
          "name": "stdout",
          "text": [
            "['Maths', 'CompScience']\n"
          ]
        }
      ]
    },
    {
      "cell_type": "code",
      "source": [
        "def max_num(a, b, c):\n",
        "    if a >= b and a >= c:\n",
        "        print(\"a is the maximum number\",a)\n",
        "    elif b >= a and b >= c:\n",
        "        print(\"b is the maximum number\",b)\n",
        "    else:\n",
        "        print(\"c is the maximum number\",c)\n",
        "\n",
        "max_num(5, 10, 3)\n",
        ""
      ],
      "metadata": {
        "colab": {
          "base_uri": "https://localhost:8080/"
        },
        "id": "MnIjh9YgJunm",
        "outputId": "0189c7d7-61c6-4cb6-99b6-5ab7486c48d4"
      },
      "execution_count": 8,
      "outputs": [
        {
          "output_type": "stream",
          "name": "stdout",
          "text": [
            "b is the maximum number 10\n"
          ]
        }
      ]
    },
    {
      "cell_type": "code",
      "source": [
        "def is_prime(n):\n",
        "    if n > 1:\n",
        "        for i in range(2, n):\n",
        "            if n % i == 0:\n",
        "                print(n, \"is not a prime number\")\n",
        "                break\n",
        "        else:\n",
        "            print(n, \"is a prime number\")\n",
        "    else:\n",
        "        print(n, \"is not a prime number\")\n",
        "\n",
        "is_prime(11)\n",
        ""
      ],
      "metadata": {
        "colab": {
          "base_uri": "https://localhost:8080/"
        },
        "id": "q4fKC7dHJyK8",
        "outputId": "fd50dfb2-3e7d-47b9-ffeb-b5e2d2112b28"
      },
      "execution_count": 9,
      "outputs": [
        {
          "output_type": "stream",
          "name": "stdout",
          "text": [
            "11 is a prime number\n"
          ]
        }
      ]
    },
    {
      "cell_type": "code",
      "source": [
        "def factorial(n):\n",
        "    factorial = 1\n",
        "    for i in range(1, n + 1):\n",
        "        factorial *= i\n",
        "    print(\"The factorial of\", n, \"is\", factorial)\n",
        "\n",
        "factorial(5)\n",
        ""
      ],
      "metadata": {
        "colab": {
          "base_uri": "https://localhost:8080/"
        },
        "id": "JFM_-lnSJ058",
        "outputId": "c47e6a37-8b79-433a-ac1b-4aef42852d86"
      },
      "execution_count": 10,
      "outputs": [
        {
          "output_type": "stream",
          "name": "stdout",
          "text": [
            "The factorial of 5 is 120\n"
          ]
        }
      ]
    },
    {
      "cell_type": "code",
      "source": [
        "def fibonacci(n):\n",
        "    a=0\n",
        "    b=1\n",
        "    list1 = []\n",
        "\n",
        "    for i in range(n):\n",
        "        list1.append(a)\n",
        "        c=a+b\n",
        "        a=b\n",
        "        b=c\n",
        "    print(list1)\n",
        "\n",
        "fibonacci(10)\n",
        ""
      ],
      "metadata": {
        "colab": {
          "base_uri": "https://localhost:8080/"
        },
        "id": "clXYirsLJ5EX",
        "outputId": "b54baa6f-9d18-4870-cbc8-4e87ab00fb9a"
      },
      "execution_count": 11,
      "outputs": [
        {
          "output_type": "stream",
          "name": "stdout",
          "text": [
            "[0, 1, 1, 2, 3, 5, 8, 13, 21, 34]\n"
          ]
        }
      ]
    },
    {
      "cell_type": "code",
      "source": [
        "def sum_list(lst):\n",
        "    total = 0\n",
        "    for num in lst:\n",
        "        total += num\n",
        "    print(\"sum of the list =\",total)\n",
        "\n",
        "sum_list([1, 2, 3, 4, 5])\n",
        ""
      ],
      "metadata": {
        "colab": {
          "base_uri": "https://localhost:8080/"
        },
        "id": "jKallS58J5XH",
        "outputId": "e4d6dc7d-c48f-4f65-cadf-c75831aa9d4a"
      },
      "execution_count": 12,
      "outputs": [
        {
          "output_type": "stream",
          "name": "stdout",
          "text": [
            "sum of the list = 15\n"
          ]
        }
      ]
    },
    {
      "cell_type": "code",
      "source": [
        "def mult_list(lst):\n",
        "    product = 1\n",
        "    for num in lst:\n",
        "        product *= num\n",
        "    print(\"multiplication of the list =\",product)\n",
        "\n",
        "mult_list([1, 2, 3, 4, 5])"
      ],
      "metadata": {
        "colab": {
          "base_uri": "https://localhost:8080/"
        },
        "id": "n9IdR3CxJ_uK",
        "outputId": "09f5cc1b-3da3-4eb4-f22c-5beb036150ef"
      },
      "execution_count": 13,
      "outputs": [
        {
          "output_type": "stream",
          "name": "stdout",
          "text": [
            "multiplication of the list = 120\n"
          ]
        }
      ]
    },
    {
      "cell_type": "code",
      "source": [
        "string = input(\"Enter a string: \")\n",
        "n=0\n",
        "print(\"Entered string is:\",string)\n",
        "for i in string:\n",
        "    if i==i.upper():\n",
        "        n+=1\n",
        "\n",
        "print(\"Number of uppercase letters =\",n)\n",
        ""
      ],
      "metadata": {
        "colab": {
          "base_uri": "https://localhost:8080/"
        },
        "id": "tsf8xJJdKUje",
        "outputId": "2562196d-4bbf-498b-d9d6-01fbf5478aab"
      },
      "execution_count": 14,
      "outputs": [
        {
          "output_type": "stream",
          "name": "stdout",
          "text": [
            "Enter a string: arman\n",
            "Entered string is: arman\n",
            "Number of uppercase letters = 0\n"
          ]
        }
      ]
    },
    {
      "cell_type": "code",
      "source": [
        "def max_num(a, b, c):\n",
        "    if a >= b and a >= c:\n",
        "        print(\"a is the maximum number\",a)\n",
        "    elif b >= a and b >= c:\n",
        "        print(\"b is the maximum number\",b)\n",
        "    else:\n",
        "        print(\"c is the maximum number\",c)\n",
        "\n",
        "a=int(input(\"Enter first number: \"))\n",
        "b=int(input(\"Enter second number: \"))\n",
        "c=int(input(\"Enter third number: \"))\n",
        "\n",
        "max_num(a, b, c)"
      ],
      "metadata": {
        "colab": {
          "base_uri": "https://localhost:8080/"
        },
        "id": "At60oZwfKZx2",
        "outputId": "9e12548c-b92e-4e43-fccf-f94b7612434a"
      },
      "execution_count": 15,
      "outputs": [
        {
          "output_type": "stream",
          "name": "stdout",
          "text": [
            "Enter first number: 3\n",
            "Enter second number: 6\n",
            "Enter third number: 9\n",
            "c is the maximum number 9\n"
          ]
        }
      ]
    },
    {
      "cell_type": "code",
      "source": [
        "def is_palindrome(s):\n",
        "    if s == s[::-1]:\n",
        "        print(\"Palindrome\")\n",
        "    else:\n",
        "        print(\"Not a palindrome\")\n",
        "\n",
        "s = input(\"Enter a string: \")\n",
        "print(\"the entered string is:\",s)\n",
        "is_palindrome(s)"
      ],
      "metadata": {
        "colab": {
          "base_uri": "https://localhost:8080/"
        },
        "id": "HMehUlxIKc9Y",
        "outputId": "3def4f5f-831b-4651-c4b0-eb4a43759b81"
      },
      "execution_count": 16,
      "outputs": [
        {
          "output_type": "stream",
          "name": "stdout",
          "text": [
            "Enter a string: arun\n",
            "the entered string is: arun\n",
            "Not a palindrome\n"
          ]
        }
      ]
    },
    {
      "cell_type": "code",
      "source": [
        "def factors(n):\n",
        "     for i in range(1, n + 1):\n",
        "         if n % i == 0:\n",
        "             print(i, end=\" \")\n",
        "\n",
        "factors(20)\n",
        ""
      ],
      "metadata": {
        "colab": {
          "base_uri": "https://localhost:8080/"
        },
        "id": "kJp2JksMKgEd",
        "outputId": "76abe939-4835-4b95-b18f-9c02bb5376e8"
      },
      "execution_count": 17,
      "outputs": [
        {
          "output_type": "stream",
          "name": "stdout",
          "text": [
            "1 2 4 5 10 20 "
          ]
        }
      ]
    }
  ]
}