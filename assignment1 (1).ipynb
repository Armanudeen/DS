{
  "nbformat": 4,
  "nbformat_minor": 0,
  "metadata": {
    "colab": {
      "provenance": []
    },
    "kernelspec": {
      "name": "python3",
      "display_name": "Python 3"
    },
    "language_info": {
      "name": "python"
    }
  },
  "cells": [
    {
      "cell_type": "code",
      "execution_count": null,
      "metadata": {
        "colab": {
          "base_uri": "https://localhost:8080/"
        },
        "id": "3VVrbtW-KFxt",
        "outputId": "08aaf208-ae1d-45a0-c161-bf73ec4d32aa"
      },
      "outputs": [
        {
          "output_type": "stream",
          "name": "stdout",
          "text": [
            "enter the length2\n",
            "enter the length3\n",
            "it is rectange\n"
          ]
        }
      ],
      "source": [
        "l=int(input(\"enter the length\"))\n",
        "b=int(input(\"enter the length\"))\n",
        "if l==b:\n",
        "  print(\"it is a squre\")\n",
        "else:\n",
        "  print(\"it is rectange\")"
      ]
    },
    {
      "cell_type": "code",
      "source": [
        "s=int(input(\"entr the sal\"))\n",
        "y=int(input(\"enter the years\"))\n",
        "if y>5:\n",
        "  n=s*0.05\n",
        "  print(n)"
      ],
      "metadata": {
        "colab": {
          "base_uri": "https://localhost:8080/"
        },
        "id": "GrIegWegLD9K",
        "outputId": "4eaa3663-d0e7-4729-c886-c2be4609ad76"
      },
      "execution_count": null,
      "outputs": [
        {
          "output_type": "stream",
          "name": "stdout",
          "text": [
            "entr the sal1000\n",
            "enter the years6\n",
            "50.0\n"
          ]
        }
      ]
    },
    {
      "cell_type": "code",
      "source": [
        "l=int(input(\"enter no\"))\n",
        "if l/2==0:\n",
        "  print(\"even\")\n",
        "else :\n",
        "  print(\"odd\")"
      ],
      "metadata": {
        "colab": {
          "base_uri": "https://localhost:8080/"
        },
        "id": "LjPnVYDbMoWJ",
        "outputId": "36d372a8-d5c9-490c-ca2b-f4f8d9468aa2"
      },
      "execution_count": null,
      "outputs": [
        {
          "output_type": "stream",
          "name": "stdout",
          "text": [
            "enter no3\n",
            "odd\n"
          ]
        }
      ]
    },
    {
      "cell_type": "code",
      "source": [
        "f=int(input(\"enter the no\"))\n",
        "s=int(input(\"enter the no\"))\n",
        "if f>s:\n",
        "  print(f,\" is grTER\")\n",
        "else :\n",
        "  print(s,\" is grater\")"
      ],
      "metadata": {
        "colab": {
          "base_uri": "https://localhost:8080/"
        },
        "id": "2iWHLFt-M-rD",
        "outputId": "09843acb-5d30-4250-d2e9-71cd42650148"
      },
      "execution_count": null,
      "outputs": [
        {
          "output_type": "stream",
          "name": "stdout",
          "text": [
            "enter the no2\n",
            "enter the no4\n",
            "4  is grater\n"
          ]
        }
      ]
    },
    {
      "cell_type": "code",
      "source": [
        "m=int(input(\"entr mark\"))\n",
        "if m>=80:\n",
        "  print(\"A\")\n",
        "elif m>=60:\n",
        "  print(\"B\")\n",
        "elif m>=50:\n",
        "  print(\"c\")\n",
        "elif m>=45:\n",
        "  print(\"d\")\n",
        "elif m>25 and m<=45:\n",
        "  print(\"e\")\n",
        "else :\n",
        "  print(\"f\")\n",
        "\n",
        "\n"
      ],
      "metadata": {
        "colab": {
          "base_uri": "https://localhost:8080/"
        },
        "id": "PT9jpNwMNwMV",
        "outputId": "635d383a-2fe5-43ee-ff3e-23ac2ddf0740"
      },
      "execution_count": null,
      "outputs": [
        {
          "output_type": "stream",
          "name": "stdout",
          "text": [
            "entr mark13\n",
            "f\n"
          ]
        }
      ]
    },
    {
      "cell_type": "code",
      "source": [
        "f=int(input(\"entr \"))\n",
        "s=int(input(\"entr \"))\n",
        "t=int(input(\"entr \"))\n",
        "if f>s and f>t:\n",
        "  print(f,\"is grater\")\n",
        "elif s>f and s>t:\n",
        "  print(s,\"is oldest\")\n",
        "else :\n",
        "  print(t,\" is oldr\")"
      ],
      "metadata": {
        "colab": {
          "base_uri": "https://localhost:8080/"
        },
        "id": "JB_0PVDCPYWg",
        "outputId": "e0e80783-8742-48cf-ab9b-5332d62ea170"
      },
      "execution_count": null,
      "outputs": [
        {
          "output_type": "stream",
          "name": "stdout",
          "text": [
            "entr 20\n",
            "entr 30\n",
            "entr 13\n",
            "30 is oldest\n"
          ]
        }
      ]
    },
    {
      "cell_type": "code",
      "source": [
        "n=int(input(\"entr cls held\"))\n",
        "a=int(input(\"entr cls atnded\"))\n",
        "p=(a/n)*100\n",
        "print(p)\n",
        "if p>=75:\n",
        "  print(\"can attnd exam\")\n",
        "else:\n",
        "  print(\"cant attend exam\")\n"
      ],
      "metadata": {
        "colab": {
          "base_uri": "https://localhost:8080/"
        },
        "id": "KBox79J8QK8u",
        "outputId": "659e3050-dec9-4469-ad34-7f764d04c51c"
      },
      "execution_count": null,
      "outputs": [
        {
          "output_type": "stream",
          "name": "stdout",
          "text": [
            "entr cls held100\n",
            "entr cls atnded80\n",
            "80.0\n",
            "can attnd exam\n"
          ]
        }
      ]
    },
    {
      "cell_type": "markdown",
      "source": [
        "****"
      ],
      "metadata": {
        "id": "qiT3l2wGrYPy"
      }
    }
  ]
}